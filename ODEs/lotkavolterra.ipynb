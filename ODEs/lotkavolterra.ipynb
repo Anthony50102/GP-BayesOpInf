{
 "cells": [
  {
   "cell_type": "code",
   "execution_count": null,
   "metadata": {},
   "outputs": [],
   "source": [
    "import numpy as np\n",
    "import matplotlib.pyplot as plt\n",
    "\n",
    "import mpl_config\n",
    "import ode_models as odes"
   ]
  },
  {
   "cell_type": "markdown",
   "metadata": {},
   "source": [
    "### Set up and solve ODE model"
   ]
  },
  {
   "cell_type": "code",
   "execution_count": null,
   "metadata": {},
   "outputs": [],
   "source": [
    "alpha = 1.5\n",
    "beta = 1\n",
    "delta = 1\n",
    "gamma = 3\n",
    "x0 = 1\n",
    "y0 = 1\n",
    "t = np.linspace(0, 20, 500)\n",
    "X0 = [x0, y0]\n",
    "\n",
    "lotkavolterra = odes.LotkaVolterra([alpha, beta, delta, gamma])\n",
    "solution = lotkavolterra.solve(initial_conditions=X0, timepoints=t)"
   ]
  },
  {
   "cell_type": "markdown",
   "metadata": {},
   "source": [
    "### Plot ODE solution"
   ]
  },
  {
   "cell_type": "code",
   "execution_count": null,
   "metadata": {},
   "outputs": [],
   "source": [
    "_, ax = lotkavolterra.plot(t, solution, ls=\"-\")\n",
    "ax.set_ylim(top=8.5)\n",
    "ax.legend(loc=\"upper right\", ncol=2)\n",
    "plt.show()"
   ]
  },
  {
   "cell_type": "code",
   "execution_count": null,
   "metadata": {},
   "outputs": [],
   "source": [
    "lotkavolterra.plot_phase(t, solution)\n",
    "plt.show()"
   ]
  },
  {
   "cell_type": "markdown",
   "metadata": {},
   "source": [
    "### Plot noised solutions"
   ]
  },
  {
   "cell_type": "code",
   "execution_count": null,
   "metadata": {},
   "outputs": [],
   "source": [
    "_, ax = lotkavolterra.plot(t, lotkavolterra.noise(solution, 0.10))\n",
    "ax.set_ylim(top=8.5)\n",
    "ax.legend(loc=\"upper right\", ncol=2)\n",
    "plt.show()"
   ]
  }
 ],
 "metadata": {
  "kernelspec": {
   "display_name": "askemv2",
   "language": "python",
   "name": "python3"
  },
  "language_info": {
   "codemirror_mode": {
    "name": "ipython",
    "version": 3
   },
   "file_extension": ".py",
   "mimetype": "text/x-python",
   "name": "python",
   "nbconvert_exporter": "python",
   "pygments_lexer": "ipython3",
   "version": "3.10.12"
  },
  "orig_nbformat": 4
 },
 "nbformat": 4,
 "nbformat_minor": 2
}
